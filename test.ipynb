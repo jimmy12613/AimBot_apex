{
 "cells": [
  {
   "cell_type": "code",
   "execution_count": 5,
   "id": "1f8e8d81-5f62-4794-8998-3774a9cb4254",
   "metadata": {
    "pycharm": {
     "name": "#%%\n"
    }
   },
   "outputs": [],
   "source": [
    "import torch\n",
    "import mss.tools\n",
    "from PIL import ImageGrab\n",
    "import numpy as np\n",
    "import cv2"
   ]
  },
  {
   "cell_type": "code",
   "execution_count": 9,
   "outputs": [
    {
     "name": "stderr",
     "output_type": "stream",
     "text": [
      "Using cache found in C:\\Users\\Admin/.cache\\torch\\hub\\ultralytics_yolov5_master\n",
      "YOLOv5  2022-5-5 torch 1.11.0 CUDA:0 (NVIDIA GeForce RTX 3080, 10240MiB)\n",
      "\n",
      "Fusing layers... \n",
      "YOLOv5s summary: 213 layers, 7225885 parameters, 0 gradients\n",
      "Adding AutoShape... \n"
     ]
    }
   ],
   "source": [
    "yolo_detect = torch.hub.load('ultralytics/yolov5', 'yolov5s')"
   ],
   "metadata": {
    "collapsed": false,
    "pycharm": {
     "name": "#%%\n"
    }
   }
  },
  {
   "cell_type": "code",
   "execution_count": 18,
   "outputs": [],
   "source": [
    "while True:\n",
    "    img = np.array(ImageGrab.grab())                     #input real time screen image\n",
    "    img = cv2.cvtColor(img, cv2.COLOR_BGR2RGB)          #change colour if need\n",
    "\n",
    "    #print('Original Dimensions : ',img.shape)           #show image size\n",
    "    scale_percent = 60       # percent of original size\n",
    "    width = int(img.shape[1] * scale_percent / 100)\n",
    "    height = int(img.shape[0] * scale_percent / 100)\n",
    "    dim = (width, height)\n",
    "    img = cv2.resize(img, dim, interpolation = cv2.INTER_AREA)      #resize\n",
    "\n",
    "    image = yolo_detect(img)                   #image pass through YOLOv5s\n",
    "\n",
    "    cv2.imshow('',np.array(image.render())[0])                       #show in window\n",
    "    if cv2.waitKey(25) & 0xFF == ord('q'):\n",
    "        cv2.destroyAllWindows()\n",
    "        break"
   ],
   "metadata": {
    "collapsed": false,
    "pycharm": {
     "name": "#%%\n"
    }
   }
  },
  {
   "cell_type": "code",
   "execution_count": 7,
   "outputs": [],
   "source": [],
   "metadata": {
    "collapsed": false,
    "pycharm": {
     "name": "#%%\n"
    }
   }
  }
 ],
 "metadata": {
  "kernelspec": {
   "display_name": "Python 3 (ipykernel)",
   "language": "python",
   "name": "python3"
  },
  "language_info": {
   "codemirror_mode": {
    "name": "ipython",
    "version": 3
   },
   "file_extension": ".py",
   "mimetype": "text/x-python",
   "name": "python",
   "nbconvert_exporter": "python",
   "pygments_lexer": "ipython3",
   "version": "3.9.7"
  }
 },
 "nbformat": 4,
 "nbformat_minor": 5
}